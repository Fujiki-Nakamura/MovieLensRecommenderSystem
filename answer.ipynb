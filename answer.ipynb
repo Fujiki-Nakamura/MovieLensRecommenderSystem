{
 "cells": [
  {
   "cell_type": "markdown",
   "metadata": {},
   "source": [
    "### 1. レコメンドシステムを実現する際に有用と思われるアルゴリズムや手段をひとつ挙げ、説明\n",
    "#### Alternating Least Squares (交互最小二乗法)\n",
    "- ユーザの嗜好、アイテムの特徴の背景に潜在的な因子が関係していると考え、user-factor vector と　item-factor vector を定義する。\n",
    "- すべてのユーザに対して user-factor vector と item-factor vector を掛けあわせた結果 元の rating matrix を近似的に再現するように、user-factor vector と item-factor vector を計算する。\n",
    "- 上の計算は、user-factor vector と item-factor vector のドット積で得られるユーザu のアイテムi に対する予測値と rating matrix の対応する要素の二乗誤差をすべてのユーザについて求めた総和に正則化項を加えた式全体の値を最小とするように計算する　(コスト関数の最小化)。\n",
    "- コスト関数を最小にする user-factor vector と item-factor vector は、互いに他方を固定することで解析的に計算することができる。つまり、item-factor vector を固定して user-factor vector を計算、また、user-factor vector を固定して item-factor vector を計算することができる。\n",
    "- この片方を固定して残りを計算するという操作を交互に繰り返す (user-factor vector と item-factor vector のドット積による予測値と元の行列との誤差の総和が一定の値に収束するまで)。\n",
    "- こうして求められた　user-factor vector と item-factor vector を掛けあわせることで、ユーザがまだ評価していないアイテムへの評価値の予測をすることができる。\n",
    "- 並列化して計算可能である。\n",
    "  - あるユーザの因子ベクトルは他のユーザの因子ベクトルとは独立して計算することができるし、あるアイテムの因子ベクトルは他のユーザの因子ベクトルとは独立して計算することができるため、この計算を並列化して求めることが可能である。\n",
    "- 訓練データとなる行列が sparse ではない時 (implicit feedback を扱う時) に良いパフォーマンスを上げることができる。\n",
    "  - 因子ベクトルを求める別の方法である Stochastic Gradient Descent は訓練データセットの各データを1つずつループするため、sparse でないデータを扱うと計算量が膨大になり、現実的でない。\n",
    "\n",
    "### 2. 1.で挙げた手法を実装\n",
    "\n",
    "### 3. 2.で実装した手法の改善点を挙げ、説明\n",
    "- 一般的に遅いアルゴリズムである"
   ]
  },
  {
   "cell_type": "code",
   "execution_count": null,
   "metadata": {
    "collapsed": true
   },
   "outputs": [],
   "source": []
  }
 ],
 "metadata": {
  "kernelspec": {
   "display_name": "Python [Root]",
   "language": "python",
   "name": "Python [Root]"
  },
  "language_info": {
   "codemirror_mode": {
    "name": "ipython",
    "version": 2
   },
   "file_extension": ".py",
   "mimetype": "text/x-python",
   "name": "python",
   "nbconvert_exporter": "python",
   "pygments_lexer": "ipython2",
   "version": "2.7.12"
  }
 },
 "nbformat": 4,
 "nbformat_minor": 0
}
