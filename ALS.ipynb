{
 "cells": [
  {
   "cell_type": "code",
   "execution_count": 1,
   "metadata": {
    "collapsed": true
   },
   "outputs": [],
   "source": [
    "import numpy as np\n",
    "import pandas as pd\n",
    "\n",
    "from IPython.core.display import display"
   ]
  },
  {
   "cell_type": "code",
   "execution_count": 18,
   "metadata": {
    "collapsed": false
   },
   "outputs": [
    {
     "data": {
      "text/plain": [
       "943"
      ]
     },
     "metadata": {},
     "output_type": "display_data"
    },
    {
     "data": {
      "text/plain": [
       "1682"
      ]
     },
     "metadata": {},
     "output_type": "display_data"
    }
   ],
   "source": [
    "header = ['user_id', 'item_id', 'rating', 'timestamp']\n",
    "df = pd.read_csv('./ml-100k/u.data', sep='\\t', names=header)\n",
    "\n",
    "n_users = df.user_id.unique().shape[0]\n",
    "n_items = df.item_id.unique().shape[0]\n",
    "display(n_users)\n",
    "display(n_items)"
   ]
  },
  {
   "cell_type": "code",
   "execution_count": 22,
   "metadata": {
    "collapsed": false
   },
   "outputs": [
    {
     "data": {
      "text/plain": [
       "(75000, 4)"
      ]
     },
     "metadata": {},
     "output_type": "display_data"
    },
    {
     "data": {
      "text/plain": [
       "(25000, 4)"
      ]
     },
     "metadata": {},
     "output_type": "display_data"
    }
   ],
   "source": [
    "from sklearn import cross_validation\n",
    "train_data, test_data = cross_validation.train_test_split(df, test_size=0.25)\n",
    "display(train_data.shape)\n",
    "display(test_data.shape)"
   ]
  },
  {
   "cell_type": "code",
   "execution_count": 27,
   "metadata": {
    "collapsed": false
   },
   "outputs": [
    {
     "data": {
      "text/plain": [
       "75000"
      ]
     },
     "metadata": {},
     "output_type": "display_data"
    },
    {
     "data": {
      "text/plain": [
       "25000"
      ]
     },
     "metadata": {},
     "output_type": "display_data"
    }
   ],
   "source": [
    "# Rating matrix for training\n",
    "R_train = np.zeros((n_users, n_items))\n",
    "for line in train_data.itertuples():\n",
    "    R_train[line[1] - 1, line[2] - 1] = line[3]\n",
    "display(len(R_train[R_train > 0]))\n",
    "\n",
    "# Rating matrix for testing\n",
    "R_test = np.zeros((n_users, n_items))\n",
    "for line in test_data.itertuples():\n",
    "    R_test[line[1] - 1, line[2] - 1] = line[3]\n",
    "display(len(R_test[R_test > 0]))"
   ]
  },
  {
   "cell_type": "code",
   "execution_count": 28,
   "metadata": {
    "collapsed": false
   },
   "outputs": [
    {
     "data": {
      "text/plain": [
       "75000"
      ]
     },
     "metadata": {},
     "output_type": "display_data"
    },
    {
     "data": {
      "text/plain": [
       "25000"
      ]
     },
     "metadata": {},
     "output_type": "display_data"
    }
   ],
   "source": [
    "# Index matrix for training\n",
    "I_train = R_train.copy()\n",
    "I_train[I_train > 0] = 1\n",
    "I_train[I_train == 0] = 0\n",
    "display(len(I_train[I_train > 0]))\n",
    "\n",
    "# Index matrix for testing\n",
    "I_test = R_test.copy()\n",
    "I_test[I_test > 0] = 1\n",
    "I_test[I_test == 0] = 0\n",
    "display(len(I_test[I_test > 0]))"
   ]
  },
  {
   "cell_type": "code",
   "execution_count": 29,
   "metadata": {
    "collapsed": true
   },
   "outputs": [],
   "source": [
    "# Calcurate the RMSE\n",
    "def rmse(I, R, Q, P):\n",
    "    SSE = np.sum((I * (R - np.dot(P, Q.T)))**2)\n",
    "    return np.sqrt(SSE / len(R[R > 0]))"
   ]
  },
  {
   "cell_type": "code",
   "execution_count": 33,
   "metadata": {
    "collapsed": true
   },
   "outputs": [],
   "source": [
    "# Regularization weight\n",
    "_lambda = 0.1\n",
    "# Dimensionlaity of latent feature space\n",
    "k = 20 \n",
    "# Number of users and items\n",
    "m, n = R_train.shape\n",
    "# Number of epochs\n",
    "n_epochs = 40\n",
    "# Latent user feature matrix\n",
    "P = 3 * np.random.rand(m, k)\n",
    "# Latent movie feature matrix\n",
    "Q = 3 * np.random.rand(n, k)\n",
    "# Avg. rating for each movie\n",
    "# Q[0, :] = R[R != 0].mean(axis=0)\n",
    "# k * k dimensional identity matrix\n",
    "I = np.eye(k)"
   ]
  },
  {
   "cell_type": "code",
   "execution_count": 34,
   "metadata": {
    "collapsed": false
   },
   "outputs": [
    {
     "name": "stdout",
     "output_type": "stream",
     "text": [
      "[Epoch 1/40] train error: 3.558053, test error: 3.576437\n",
      "[Epoch 2/40] train error: 3.393361, test error: 3.473728\n",
      "[Epoch 3/40] train error: 3.367593, test error: 3.454299\n",
      "[Epoch 4/40] train error: 3.355697, test error: 3.444978\n",
      "[Epoch 5/40] train error: 3.348599, test error: 3.439127\n",
      "[Epoch 6/40] train error: 3.343891, test error: 3.435097\n",
      "[Epoch 7/40] train error: 3.340566, test error: 3.432196\n",
      "[Epoch 8/40] train error: 3.338094, test error: 3.430025\n",
      "[Epoch 9/40] train error: 3.336173, test error: 3.428338\n",
      "[Epoch 10/40] train error: 3.334626, test error: 3.426983\n",
      "[Epoch 11/40] train error: 3.333346, test error: 3.425861\n",
      "[Epoch 12/40] train error: 3.332265, test error: 3.424911\n",
      "[Epoch 13/40] train error: 3.331337, test error: 3.424089\n",
      "[Epoch 14/40] train error: 3.330529, test error: 3.423368\n",
      "[Epoch 15/40] train error: 3.329820, test error: 3.422728\n",
      "[Epoch 16/40] train error: 3.329192, test error: 3.422157\n",
      "[Epoch 17/40] train error: 3.328633, test error: 3.421646\n",
      "[Epoch 18/40] train error: 3.328131, test error: 3.421187\n",
      "[Epoch 19/40] train error: 3.327680, test error: 3.420774\n",
      "[Epoch 20/40] train error: 3.327271, test error: 3.420403\n",
      "[Epoch 21/40] train error: 3.326900, test error: 3.420069\n",
      "[Epoch 22/40] train error: 3.326561, test error: 3.419767\n",
      "[Epoch 23/40] train error: 3.326251, test error: 3.419494\n",
      "[Epoch 24/40] train error: 3.325965, test error: 3.419246\n",
      "[Epoch 25/40] train error: 3.325702, test error: 3.419020\n",
      "[Epoch 26/40] train error: 3.325458, test error: 3.418814\n",
      "[Epoch 27/40] train error: 3.325232, test error: 3.418625\n",
      "[Epoch 28/40] train error: 3.325021, test error: 3.418451\n",
      "[Epoch 29/40] train error: 3.324824, test error: 3.418290\n",
      "[Epoch 30/40] train error: 3.324640, test error: 3.418141\n",
      "[Epoch 31/40] train error: 3.324468, test error: 3.418002\n",
      "[Epoch 32/40] train error: 3.324305, test error: 3.417873\n",
      "[Epoch 33/40] train error: 3.324153, test error: 3.417753\n",
      "[Epoch 34/40] train error: 3.324009, test error: 3.417640\n",
      "[Epoch 35/40] train error: 3.323873, test error: 3.417533\n",
      "[Epoch 36/40] train error: 3.323744, test error: 3.417433\n",
      "[Epoch 37/40] train error: 3.323622, test error: 3.417339\n",
      "[Epoch 38/40] train error: 3.323506, test error: 3.417250\n",
      "[Epoch 39/40] train error: 3.323396, test error: 3.417165\n",
      "[Epoch 40/40] train error: 3.323291, test error: 3.417085\n",
      "Algorithm converged\n"
     ]
    }
   ],
   "source": [
    "train_errors = []\n",
    "test_errors = []\n",
    "\n",
    "for epoch in range(n_epochs):\n",
    "    # Fix Q and estimate P\n",
    "    for u, Iu in enumerate(I_train):\n",
    "        Au = np.dot(Q.T, Q) + _lambda * I\n",
    "        Vu = np.dot(Iu, Q)\n",
    "        P[u, :] = np.linalg.solve(Au, Vu)\n",
    "\n",
    "    # Fix P and estimate Q\n",
    "    for i, Ii in enumerate(I_train.T):\n",
    "        Ai = np.dot(P.T, P) + _lambda * I\n",
    "        Vi = np.dot(Ii, P)\n",
    "        Q[i, :] = np.linalg.solve(Ai, Vi)\n",
    "        \n",
    "    train_rmse = rmse(I_train, R_train, Q, P)\n",
    "    test_rmse = rmse(I_test, R_test, Q, P)\n",
    "    train_errors.append(train_rmse)\n",
    "    test_errors.append(test_rmse)\n",
    "\n",
    "    print(\"[Epoch %d/%d] train error: %f, test error: %f\" \\\n",
    "            %(epoch+1, n_epochs, train_rmse, test_rmse))\n",
    "\n",
    "print(\"Algorithm converged\")"
   ]
  },
  {
   "cell_type": "code",
   "execution_count": 35,
   "metadata": {
    "collapsed": false
   },
   "outputs": [
    {
     "data": {
      "image/png": "[encoded data removed]",
      "text/plain": [
       "<matplotlib.figure.Figure at 0x11d177fd0>"
      ]
     },
     "metadata": {},
     "output_type": "display_data"
    }
   ],
   "source": [
    "import matplotlib.pyplot as plt\n",
    "%matplotlib inline\n",
    "\n",
    "plt.plot(range(n_epochs), train_errors, marker='o', label='Training Data');\n",
    "plt.plot(range(n_epochs), test_errors, marker='v', label='Test Data');\n",
    "plt.title('ALS-WR Learning Curve')\n",
    "plt.xlabel('Number of Epochs');\n",
    "plt.ylabel('RMSE');\n",
    "plt.legend()\n",
    "plt.grid()\n",
    "plt.show()"
   ]
  },
  {
   "cell_type": "code",
   "execution_count": null,
   "metadata": {
    "collapsed": true
   },
   "outputs": [],
   "source": []
  }
 ],
 "metadata": {
  "kernelspec": {
   "display_name": "Python [Root]",
   "language": "python",
   "name": "Python [Root]"
  },
  "language_info": {
   "codemirror_mode": {
    "name": "ipython",
    "version": 2
   },
   "file_extension": ".py",
   "mimetype": "text/x-python",
   "name": "python",
   "nbconvert_exporter": "python",
   "pygments_lexer": "ipython2",
   "version": "2.7.12"
  }
 },
 "nbformat": 4,
 "nbformat_minor": 0
}
