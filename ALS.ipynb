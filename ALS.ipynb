{
 "cells": [
  {
   "cell_type": "code",
   "execution_count": 2,
   "metadata": {
    "collapsed": true
   },
   "outputs": [],
   "source": [
    "import numpy as np\n",
    "import pandas as pd\n",
    "\n",
    "from IPython.core.display import display"
   ]
  },
  {
   "cell_type": "code",
   "execution_count": 3,
   "metadata": {
    "collapsed": false
   },
   "outputs": [
    {
     "data": {
      "text/plain": [
       "943"
      ]
     },
     "metadata": {},
     "output_type": "display_data"
    },
    {
     "data": {
      "text/plain": [
       "1682"
      ]
     },
     "metadata": {},
     "output_type": "display_data"
    }
   ],
   "source": [
    "header = ['user_id', 'item_id', 'rating', 'timestamp']\n",
    "df = pd.read_csv('./ml-100k/u.data', sep='\\t', names=header)\n",
    "\n",
    "n_users = df.user_id.unique().shape[0]\n",
    "n_items = df.item_id.unique().shape[0]\n",
    "display(n_users)\n",
    "display(n_items)"
   ]
  },
  {
   "cell_type": "code",
   "execution_count": 4,
   "metadata": {
    "collapsed": false
   },
   "outputs": [
    {
     "data": {
      "text/plain": [
       "(75000, 4)"
      ]
     },
     "metadata": {},
     "output_type": "display_data"
    },
    {
     "data": {
      "text/plain": [
       "(25000, 4)"
      ]
     },
     "metadata": {},
     "output_type": "display_data"
    }
   ],
   "source": [
    "from sklearn import cross_validation\n",
    "train_data, test_data = cross_validation.train_test_split(df, test_size=0.25)\n",
    "display(train_data.shape)\n",
    "display(test_data.shape)"
   ]
  },
  {
   "cell_type": "code",
   "execution_count": 5,
   "metadata": {
    "collapsed": false
   },
   "outputs": [
    {
     "data": {
      "text/plain": [
       "75000"
      ]
     },
     "metadata": {},
     "output_type": "display_data"
    },
    {
     "data": {
      "text/plain": [
       "25000"
      ]
     },
     "metadata": {},
     "output_type": "display_data"
    }
   ],
   "source": [
    "# Rating matrix for training\n",
    "R_train = np.zeros((n_users, n_items))\n",
    "for line in train_data.itertuples():\n",
    "    R_train[line[1] - 1, line[2] - 1] = line[3]\n",
    "display(len(R_train[R_train > 0]))\n",
    "\n",
    "# Rating matrix for testing\n",
    "R_test = np.zeros((n_users, n_items))\n",
    "for line in test_data.itertuples():\n",
    "    R_test[line[1] - 1, line[2] - 1] = line[3]\n",
    "display(len(R_test[R_test > 0]))"
   ]
  },
  {
   "cell_type": "code",
   "execution_count": 6,
   "metadata": {
    "collapsed": false
   },
   "outputs": [
    {
     "data": {
      "text/plain": [
       "75000"
      ]
     },
     "metadata": {},
     "output_type": "display_data"
    },
    {
     "data": {
      "text/plain": [
       "25000"
      ]
     },
     "metadata": {},
     "output_type": "display_data"
    }
   ],
   "source": [
    "# Index matrix for training\n",
    "I_train = R_train.copy()\n",
    "I_train[I_train > 0] = 1\n",
    "I_train[I_train == 0] = 0\n",
    "display(len(I_train[I_train > 0]))\n",
    "\n",
    "# Index matrix for testing\n",
    "I_test = R_test.copy()\n",
    "I_test[I_test > 0] = 1\n",
    "I_test[I_test == 0] = 0\n",
    "display(len(I_test[I_test > 0]))"
   ]
  },
  {
   "cell_type": "code",
   "execution_count": 7,
   "metadata": {
    "collapsed": true
   },
   "outputs": [],
   "source": [
    "# Calcurate the RMSE\n",
    "def rmse(I, R, Q, P):\n",
    "    SSE = np.sum((I * (R - np.dot(P, Q.T)))**2)\n",
    "    return np.sqrt(SSE / len(R[R > 0]))"
   ]
  },
  {
   "cell_type": "code",
   "execution_count": 8,
   "metadata": {
    "collapsed": true
   },
   "outputs": [],
   "source": [
    "# Regularization weight\n",
    "_lambda = 0.1\n",
    "# Dimensionlaity of latent feature space\n",
    "k = 20 \n",
    "# Number of users and items\n",
    "m, n = R_train.shape\n",
    "# Number of epochs\n",
    "n_epochs = 40\n",
    "# Latent user feature matrix\n",
    "P = 3 * np.random.rand(m, k)\n",
    "# Latent movie feature matrix\n",
    "Q = 3 * np.random.rand(n, k)\n",
    "# Avg. rating for each movie\n",
    "# Q[0, :] = R[R != 0].mean(axis=0)\n",
    "# k * k dimensional identity matrix\n",
    "I = np.eye(k)"
   ]
  },
  {
   "cell_type": "code",
   "execution_count": 9,
   "metadata": {
    "collapsed": false
   },
   "outputs": [
    {
     "name": "stdout",
     "output_type": "stream",
     "text": [
      "[Epoch 1/40] train error: 2.805194, test error: 2.979975\n",
      "[Epoch 2/40] train error: 2.522843, test error: 2.801296\n",
      "[Epoch 3/40] train error: 2.473694, test error: 2.773116\n",
      "[Epoch 4/40] train error: 2.455421, test error: 2.763036\n",
      "[Epoch 5/40] train error: 2.444994, test error: 2.756560\n",
      "[Epoch 6/40] train error: 2.437820, test error: 2.751532\n",
      "[Epoch 7/40] train error: 2.432448, test error: 2.747410\n",
      "[Epoch 8/40] train error: 2.428231, test error: 2.743967\n",
      "[Epoch 9/40] train error: 2.424820, test error: 2.741087\n",
      "[Epoch 10/40] train error: 2.422008, test error: 2.738690\n",
      "[Epoch 11/40] train error: 2.419660, test error: 2.736705\n",
      "[Epoch 12/40] train error: 2.417677, test error: 2.735061\n",
      "[Epoch 13/40] train error: 2.415985, test error: 2.733691\n",
      "[Epoch 14/40] train error: 2.414525, test error: 2.732538\n",
      "[Epoch 15/40] train error: 2.413253, test error: 2.731553\n",
      "[Epoch 16/40] train error: 2.412131, test error: 2.730700\n",
      "[Epoch 17/40] train error: 2.411134, test error: 2.729951\n",
      "[Epoch 18/40] train error: 2.410240, test error: 2.729286\n",
      "[Epoch 19/40] train error: 2.409433, test error: 2.728689\n",
      "[Epoch 20/40] train error: 2.408698, test error: 2.728149\n",
      "[Epoch 21/40] train error: 2.408026, test error: 2.727658\n",
      "[Epoch 22/40] train error: 2.407408, test error: 2.727209\n",
      "[Epoch 23/40] train error: 2.406838, test error: 2.726796\n",
      "[Epoch 24/40] train error: 2.406309, test error: 2.726416\n",
      "[Epoch 25/40] train error: 2.405818, test error: 2.726065\n",
      "[Epoch 26/40] train error: 2.405359, test error: 2.725742\n",
      "[Epoch 27/40] train error: 2.404931, test error: 2.725443\n",
      "[Epoch 28/40] train error: 2.404529, test error: 2.725166\n",
      "[Epoch 29/40] train error: 2.404152, test error: 2.724910\n",
      "[Epoch 30/40] train error: 2.403797, test error: 2.724672\n",
      "[Epoch 31/40] train error: 2.403463, test error: 2.724453\n",
      "[Epoch 32/40] train error: 2.403147, test error: 2.724249\n",
      "[Epoch 33/40] train error: 2.402848, test error: 2.724060\n",
      "[Epoch 34/40] train error: 2.402565, test error: 2.723884\n",
      "[Epoch 35/40] train error: 2.402296, test error: 2.723721\n",
      "[Epoch 36/40] train error: 2.402041, test error: 2.723570\n",
      "[Epoch 37/40] train error: 2.401798, test error: 2.723429\n",
      "[Epoch 38/40] train error: 2.401566, test error: 2.723297\n",
      "[Epoch 39/40] train error: 2.401345, test error: 2.723174\n",
      "[Epoch 40/40] train error: 2.401135, test error: 2.723058\n",
      "Algorithm converged\n"
     ]
    }
   ],
   "source": [
    "train_errors = []\n",
    "test_errors = []\n",
    "\n",
    "for epoch in range(n_epochs):\n",
    "    # Fix Q and estimate P\n",
    "    for u, Iu in enumerate(R_train):\n",
    "        Au = np.dot(Q.T, Q) + _lambda * I\n",
    "        Vu = np.dot(Iu, Q)\n",
    "        P[u, :] = np.linalg.solve(Au, Vu)\n",
    "\n",
    "    # Fix P and estimate Q\n",
    "    for i, Ii in enumerate(R_train.T):\n",
    "        Ai = np.dot(P.T, P) + _lambda * I\n",
    "        Vi = np.dot(Ii, P)\n",
    "        Q[i, :] = np.linalg.solve(Ai, Vi)\n",
    "        \n",
    "    train_rmse = rmse(I_train, R_train, Q, P)\n",
    "    test_rmse = rmse(I_test, R_test, Q, P)\n",
    "    train_errors.append(train_rmse)\n",
    "    test_errors.append(test_rmse)\n",
    "\n",
    "    print(\"[Epoch %d/%d] train error: %f, test error: %f\" \\\n",
    "            %(epoch+1, n_epochs, train_rmse, test_rmse))\n",
    "\n",
    "print(\"Algorithm converged\")"
   ]
  },
  {
   "cell_type": "code",
   "execution_count": 10,
   "metadata": {
    "collapsed": false
   },
   "outputs": [
    {
     "data": {
      "image/png": "[encoded data removed]",
      "text/plain": [
       "<matplotlib.figure.Figure at 0x1144486d0>"
      ]
     },
     "metadata": {},
     "output_type": "display_data"
    }
   ],
   "source": [
    "import matplotlib.pyplot as plt\n",
    "%matplotlib inline\n",
    "\n",
    "plt.plot(range(n_epochs), train_errors, marker='o', label='Training Data');\n",
    "plt.plot(range(n_epochs), test_errors, marker='v', label='Test Data');\n",
    "plt.title('ALS-WR Learning Curve')\n",
    "plt.xlabel('Number of Epochs');\n",
    "plt.ylabel('RMSE');\n",
    "plt.legend()\n",
    "plt.grid()\n",
    "plt.show()"
   ]
  },
  {
   "cell_type": "code",
   "execution_count": null,
   "metadata": {
    "collapsed": true
   },
   "outputs": [],
   "source": []
  }
 ],
 "metadata": {
  "kernelspec": {
   "display_name": "Python [Root]",
   "language": "python",
   "name": "Python [Root]"
  },
  "language_info": {
   "codemirror_mode": {
    "name": "ipython",
    "version": 2
   },
   "file_extension": ".py",
   "mimetype": "text/x-python",
   "name": "python",
   "nbconvert_exporter": "python",
   "pygments_lexer": "ipython2",
   "version": "2.7.12"
  }
 },
 "nbformat": 4,
 "nbformat_minor": 0
}
